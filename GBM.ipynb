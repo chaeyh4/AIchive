{
  "cells": [
    {
      "cell_type": "markdown",
      "metadata": {
        "id": "view-in-github",
        "colab_type": "text"
      },
      "source": [
        "<a href=\"https://colab.research.google.com/github/chaeyh4/SmartFactory/blob/main/GBM.ipynb\" target=\"_parent\"><img src=\"https://colab.research.google.com/assets/colab-badge.svg\" alt=\"Open In Colab\"/></a>"
      ]
    },
    {
      "cell_type": "markdown",
      "id": "273b75f6-25fa-4f9c-8c9d-fa33a985f2dd",
      "metadata": {
        "id": "273b75f6-25fa-4f9c-8c9d-fa33a985f2dd"
      },
      "source": [
        "## Import"
      ]
    },
    {
      "cell_type": "code",
      "execution_count": null,
      "id": "5c415d9d-1111-46ed-bc2d-849c75ab962a",
      "metadata": {
        "id": "5c415d9d-1111-46ed-bc2d-849c75ab962a"
      },
      "outputs": [],
      "source": [
        "import pandas as pd\n",
        "import random\n",
        "import os\n",
        "import numpy as np\n",
        "\n",
        "from sklearn.preprocessing import LabelEncoder"
      ]
    },
    {
      "cell_type": "markdown",
      "id": "119f9c1c-39bc-42e7-a00d-3062d11b4f1e",
      "metadata": {
        "id": "119f9c1c-39bc-42e7-a00d-3062d11b4f1e"
      },
      "source": [
        "## Data Load"
      ]
    },
    {
      "cell_type": "code",
      "execution_count": null,
      "id": "ee76c413-001b-475e-9d1c-6662d25d2db2",
      "metadata": {
        "id": "ee76c413-001b-475e-9d1c-6662d25d2db2"
      },
      "outputs": [],
      "source": [
        "train_df = pd.read_csv('./train.csv')\n",
        "test_df = pd.read_csv('./test.csv')"
      ]
    },
    {
      "cell_type": "code",
      "source": [
        "train_df.shape"
      ],
      "metadata": {
        "colab": {
          "base_uri": "https://localhost:8080/"
        },
        "id": "BNRU8WEsmSYu",
        "outputId": "177c7142-6016-4854-91be-57eadda3a47f"
      },
      "id": "BNRU8WEsmSYu",
      "execution_count": null,
      "outputs": [
        {
          "output_type": "execute_result",
          "data": {
            "text/plain": [
              "(598, 2881)"
            ]
          },
          "metadata": {},
          "execution_count": 26
        }
      ]
    },
    {
      "cell_type": "code",
      "source": [
        "test_df.shape"
      ],
      "metadata": {
        "id": "pQbqTMGvmVci",
        "outputId": "7315493b-5201-4af4-ff11-1150375a260d",
        "colab": {
          "base_uri": "https://localhost:8080/"
        }
      },
      "id": "pQbqTMGvmVci",
      "execution_count": null,
      "outputs": [
        {
          "output_type": "execute_result",
          "data": {
            "text/plain": [
              "(310, 2879)"
            ]
          },
          "metadata": {},
          "execution_count": 27
        }
      ]
    },
    {
      "cell_type": "code",
      "execution_count": null,
      "id": "ffc6afcd-a059-4c16-81a5-ab3d4d750a41",
      "metadata": {
        "id": "ffc6afcd-a059-4c16-81a5-ab3d4d750a41"
      },
      "outputs": [],
      "source": [
        "train_x = train_df.drop(columns=['PRODUCT_ID', 'TIMESTAMP', 'Y_Class', 'Y_Quality'])\n",
        "train_y = train_df['Y_Class']\n",
        "\n",
        "test_x = test_df.drop(columns=['PRODUCT_ID', 'TIMESTAMP'])"
      ]
    },
    {
      "cell_type": "markdown",
      "id": "885f1e6b-97f4-4f90-b3ce-0513b7196db6",
      "metadata": {
        "id": "885f1e6b-97f4-4f90-b3ce-0513b7196db6"
      },
      "source": [
        "## Data Pre-processing"
      ]
    },
    {
      "cell_type": "code",
      "execution_count": null,
      "id": "8ad73f05-9bc3-4063-af29-25dc31f9e3d0",
      "metadata": {
        "id": "8ad73f05-9bc3-4063-af29-25dc31f9e3d0"
      },
      "outputs": [],
      "source": [
        "train_x = train_x.fillna(0)\n",
        "test_x = test_x.fillna(0)"
      ]
    },
    {
      "cell_type": "code",
      "execution_count": null,
      "id": "f710209f-754a-456b-97a5-f7fb4f7e0f51",
      "metadata": {
        "colab": {
          "base_uri": "https://localhost:8080/"
        },
        "id": "f710209f-754a-456b-97a5-f7fb4f7e0f51",
        "outputId": "1207491d-4105-4325-c3ef-d6abbc35f044"
      },
      "outputs": [
        {
          "output_type": "stream",
          "name": "stdout",
          "text": [
            "Done.\n"
          ]
        }
      ],
      "source": [
        "# qualitative to quantitative\n",
        "qual_col = ['LINE', 'PRODUCT_CODE']\n",
        "\n",
        "for i in qual_col:\n",
        "    le = LabelEncoder()\n",
        "    le = le.fit(train_x[i])\n",
        "    train_x[i] = le.transform(train_x[i])\n",
        "    \n",
        "    for label in np.unique(test_x[i]): \n",
        "        if label not in le.classes_: \n",
        "            le.classes_ = np.append(le.classes_, label)\n",
        "    test_x[i] = le.transform(test_x[i]) \n",
        "print('Done.')"
      ]
    },
    {
      "cell_type": "code",
      "source": [
        "from keras.utils import np_utils"
      ],
      "metadata": {
        "id": "e6RyXcH3vNvn"
      },
      "id": "e6RyXcH3vNvn",
      "execution_count": null,
      "outputs": []
    },
    {
      "cell_type": "code",
      "source": [
        "train_y_encoded = np_utils.to_categorical(train_y)"
      ],
      "metadata": {
        "id": "WMlhF736u85w"
      },
      "id": "WMlhF736u85w",
      "execution_count": null,
      "outputs": []
    },
    {
      "cell_type": "code",
      "source": [
        "train_x_encoded = pd.get_dummies(data = train_x, columns = ['LINE'], prefix = 'Line')\n",
        "train_x_encoded = pd.get_dummies(data = train_x_encoded, columns = ['PRODUCT_CODE'], prefix = 'PRODUCT_CODE')"
      ],
      "metadata": {
        "id": "1hd82VrRvQ1Z"
      },
      "id": "1hd82VrRvQ1Z",
      "execution_count": null,
      "outputs": []
    },
    {
      "cell_type": "code",
      "source": [
        "test_x_encoded = pd.get_dummies(data = test_x, columns = ['LINE'], prefix = 'Line')\n",
        "test_x_encoded = pd.get_dummies(data = test_x_encoded, columns = ['PRODUCT_CODE'], prefix = 'PRODUCT_CODE')"
      ],
      "metadata": {
        "id": "F0H78UZlvM9J"
      },
      "id": "F0H78UZlvM9J",
      "execution_count": null,
      "outputs": []
    },
    {
      "cell_type": "code",
      "source": [
        "from sklearn.ensemble import GradientBoostingClassifier"
      ],
      "metadata": {
        "id": "DqIhbeGHTYXL"
      },
      "id": "DqIhbeGHTYXL",
      "execution_count": null,
      "outputs": []
    },
    {
      "cell_type": "code",
      "source": [
        "gb = GradientBoostingClassifier(random_state=0)\n",
        "gb.fit(train_x_encoded, train_y)"
      ],
      "metadata": {
        "id": "jb6UexqiTkVU"
      },
      "id": "jb6UexqiTkVU",
      "execution_count": null,
      "outputs": []
    },
    {
      "cell_type": "markdown",
      "source": [
        "## 파라미터 조정"
      ],
      "metadata": {
        "id": "0koqwt-5lJW9"
      },
      "id": "0koqwt-5lJW9"
    },
    {
      "cell_type": "code",
      "source": [
        "from sklearn.model_selection import GridSearchCV"
      ],
      "metadata": {
        "id": "G8t-43UeXBda"
      },
      "id": "G8t-43UeXBda",
      "execution_count": null,
      "outputs": []
    },
    {
      "cell_type": "code",
      "source": [
        "params = {\n",
        "    'n_estimators':[100, 500],\n",
        "    'learning_rate' : [ 0.05, 0.1]\n",
        "}\n",
        "grid_cv = GridSearchCV(gb , param_grid=params , cv=2 ,verbose=1)\n",
        "grid_cv.fit(train_x_encoded , train_y)\n",
        "print('최적 하이퍼 파라미터:\\n', grid_cv.best_params_)\n",
        "print('최고 예측 정확도: {0:.4f}'.format(grid_cv.best_score_))"
      ],
      "metadata": {
        "colab": {
          "base_uri": "https://localhost:8080/"
        },
        "id": "mtBasZ1JXm1h",
        "outputId": "79f9088b-305e-47f9-f42c-5fa91b774d27"
      },
      "id": "mtBasZ1JXm1h",
      "execution_count": null,
      "outputs": [
        {
          "output_type": "stream",
          "name": "stdout",
          "text": [
            "Fitting 2 folds for each of 4 candidates, totalling 8 fits\n",
            "최적 하이퍼 파라미터:\n",
            " {'learning_rate': 0.05, 'n_estimators': 100}\n",
            "최고 예측 정확도: 0.4197\n"
          ]
        }
      ]
    },
    {
      "cell_type": "code",
      "source": [
        "preds = grid_cv.best_estimator_.predict(test_x_encoded)"
      ],
      "metadata": {
        "id": "Fm_19NT4aRRT"
      },
      "id": "Fm_19NT4aRRT",
      "execution_count": null,
      "outputs": []
    },
    {
      "cell_type": "markdown",
      "source": [
        "## 예측"
      ],
      "metadata": {
        "id": "xv52Ti0-lP96"
      },
      "id": "xv52Ti0-lP96"
    },
    {
      "cell_type": "code",
      "source": [
        "preds = gb.predict(test_x_encoded)"
      ],
      "metadata": {
        "id": "165_iz1KUdj3"
      },
      "id": "165_iz1KUdj3",
      "execution_count": null,
      "outputs": []
    },
    {
      "cell_type": "code",
      "source": [
        "submit = pd.read_csv('./sample_submission.csv')"
      ],
      "metadata": {
        "id": "pvLAJHCywQTQ"
      },
      "id": "pvLAJHCywQTQ",
      "execution_count": null,
      "outputs": []
    },
    {
      "cell_type": "code",
      "source": [
        "submit['Y_Class'] = preds"
      ],
      "metadata": {
        "id": "G5ydtXcpwVON"
      },
      "id": "G5ydtXcpwVON",
      "execution_count": null,
      "outputs": []
    },
    {
      "cell_type": "code",
      "source": [
        "submit.to_csv('./xgboost_submission_gbmbest.csv', index=False)"
      ],
      "metadata": {
        "id": "7j2d_XazwXEQ"
      },
      "id": "7j2d_XazwXEQ",
      "execution_count": null,
      "outputs": []
    }
  ],
  "metadata": {
    "kernelspec": {
      "display_name": "Python 3",
      "language": "python",
      "name": "python3"
    },
    "language_info": {
      "codemirror_mode": {
        "name": "ipython",
        "version": 3
      },
      "file_extension": ".py",
      "mimetype": "text/x-python",
      "name": "python",
      "nbconvert_exporter": "python",
      "pygments_lexer": "ipython3",
      "version": "3.8.3"
    },
    "colab": {
      "provenance": [],
      "include_colab_link": true
    }
  },
  "nbformat": 4,
  "nbformat_minor": 5
}