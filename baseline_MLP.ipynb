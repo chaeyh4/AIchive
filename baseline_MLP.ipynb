{
  "cells": [
    {
      "cell_type": "markdown",
      "metadata": {
        "id": "view-in-github",
        "colab_type": "text"
      },
      "source": [
        "<a href=\"https://colab.research.google.com/github/chaeyh4/FML/blob/main/baseline_MLP.ipynb\" target=\"_parent\"><img src=\"https://colab.research.google.com/assets/colab-badge.svg\" alt=\"Open In Colab\"/></a>"
      ]
    },
    {
      "cell_type": "code",
      "execution_count": null,
      "metadata": {
        "id": "MEbnhK8KJLMz"
      },
      "outputs": [],
      "source": [
        "import numpy as np\n",
        "import pandas as pd\n",
        "import torch\n",
        "import torch.nn as nn\n",
        "import torch.optim as optim\n",
        "from torch.utils.data import DataLoader, TensorDataset\n",
        "from models.MLP import MLP_classifier"
      ]
    },
    {
      "cell_type": "code",
      "execution_count": null,
      "metadata": {
        "id": "K-wN8YbrJLM1"
      },
      "outputs": [],
      "source": [
        "# Load the Fashion MNIST dataset in npy format\n",
        "train_images = np.load('./data/fashion_mnist/train_images.npy')\n",
        "train_labels = np.load('./data/fashion_mnist/train_labels.npy')\n",
        "test_images = np.load('./data/fashion_mnist/test_images.npy')\n",
        "test_labels = np.load('./data/fashion_mnist/test_labels.npy')"
      ]
    },
    {
      "cell_type": "code",
      "execution_count": null,
      "metadata": {
        "id": "kLNTNK7fJLM1"
      },
      "outputs": [],
      "source": [
        "# Preprocess the dataset (normalize and convert to tensors)\n",
        "train_images, test_images = train_images / 255.0, test_images / 255.0\n",
        "\n",
        "train_images = torch.tensor(train_images, dtype=torch.float32).reshape(-1, 28*28)\n",
        "train_labels = torch.tensor(train_labels, dtype=torch.long)\n",
        "test_images = torch.tensor(test_images, dtype=torch.float32).reshape(-1, 28*28)\n",
        "test_labels = torch.tensor(test_labels, dtype=torch.long)"
      ]
    },
    {
      "cell_type": "code",
      "execution_count": null,
      "metadata": {
        "id": "AU4f7GOBJLM1"
      },
      "outputs": [],
      "source": [
        "# Create DataLoader for training and testing sets\n",
        "train_dataset = TensorDataset(train_images, train_labels)\n",
        "test_dataset = TensorDataset(test_images, test_labels)\n",
        "\n",
        "train_loader = DataLoader(train_dataset, batch_size=64, shuffle=True)\n",
        "test_loader = DataLoader(test_dataset, batch_size=64, shuffle=False)"
      ]
    },
    {
      "cell_type": "code",
      "execution_count": null,
      "metadata": {
        "id": "ajJ-QxSkJLM2"
      },
      "outputs": [],
      "source": [
        "# Create the model\n",
        "input_size = 28*28\n",
        "num_classes = 10\n",
        "model = MLP_classifier(input_size, num_classes)"
      ]
    },
    {
      "cell_type": "code",
      "execution_count": null,
      "metadata": {
        "id": "O62Dive_JLM2"
      },
      "outputs": [],
      "source": [
        "# Set up the loss function and optimizer\n",
        "criterion = nn.CrossEntropyLoss()\n",
        "optimizer = optim.Adam(model.parameters(), lr=0.001)"
      ]
    },
    {
      "cell_type": "code",
      "execution_count": null,
      "metadata": {
        "id": "P9wG2qXNJLM2"
      },
      "outputs": [],
      "source": [
        "# Train the model using the train method\n",
        "num_epochs = 10\n",
        "model.train(train_loader, criterion, optimizer, num_epochs)"
      ]
    },
    {
      "cell_type": "code",
      "execution_count": null,
      "metadata": {
        "id": "OEK3es3YJLM2"
      },
      "outputs": [],
      "source": [
        "# Evaluate the model using the evaluate method\n",
        "predicted = model.evaluate(test_loader)"
      ]
    },
    {
      "cell_type": "code",
      "execution_count": null,
      "metadata": {
        "id": "te0rNYY2JLM2"
      },
      "outputs": [],
      "source": [
        "# Save the predicted labels to csv\n",
        "submission = []\n",
        "for i in range(len(predicted)):\n",
        "    submission.append(str(predicted[i].item()))\n",
        "submission = pd.DataFrame({\"Label\":submission})\n",
        "submission.to_csv('sample_submission.csv', index_label='id')"
      ]
    }
  ],
  "metadata": {
    "kernelspec": {
      "display_name": "agc2023",
      "language": "python",
      "name": "python3"
    },
    "language_info": {
      "name": "python",
      "version": "3.9.15"
    },
    "orig_nbformat": 4,
    "colab": {
      "provenance": [],
      "include_colab_link": true
    }
  },
  "nbformat": 4,
  "nbformat_minor": 0
}